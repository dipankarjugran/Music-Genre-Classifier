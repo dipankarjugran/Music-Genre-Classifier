{
 "cells": [
  {
   "cell_type": "code",
   "execution_count": 3,
   "id": "e912e41a",
   "metadata": {},
   "outputs": [],
   "source": [
    "import os\n",
    "import pandas as pd\n",
    "import numpy as np\n",
    "from sklearn.preprocessing import MinMaxScaler"
   ]
  },
  {
   "cell_type": "code",
   "execution_count": 4,
   "id": "fa27ab55",
   "metadata": {},
   "outputs": [],
   "source": [
    "df = pd.read_csv(\"../csv/genre_clean.csv\")"
   ]
  },
  {
   "cell_type": "code",
   "execution_count": 5,
   "id": "f2fe3333",
   "metadata": {},
   "outputs": [
    {
     "data": {
      "text/html": [
       "<div>\n",
       "<style scoped>\n",
       "    .dataframe tbody tr th:only-of-type {\n",
       "        vertical-align: middle;\n",
       "    }\n",
       "\n",
       "    .dataframe tbody tr th {\n",
       "        vertical-align: top;\n",
       "    }\n",
       "\n",
       "    .dataframe thead th {\n",
       "        text-align: right;\n",
       "    }\n",
       "</style>\n",
       "<table border=\"1\" class=\"dataframe\">\n",
       "  <thead>\n",
       "    <tr style=\"text-align: right;\">\n",
       "      <th></th>\n",
       "      <th>zero_crossing_rate</th>\n",
       "      <th>spectral_centroid</th>\n",
       "      <th>spectral_rolloff</th>\n",
       "      <th>mfcc_1</th>\n",
       "      <th>mfcc_2</th>\n",
       "      <th>mfcc_3</th>\n",
       "      <th>mfcc_4</th>\n",
       "      <th>mfcc_5</th>\n",
       "      <th>mfcc_6</th>\n",
       "      <th>mfcc_7</th>\n",
       "      <th>mfcc_8</th>\n",
       "      <th>mfcc_9</th>\n",
       "      <th>mfcc_10</th>\n",
       "      <th>mfcc_11</th>\n",
       "      <th>mfcc_12</th>\n",
       "      <th>mfcc_13</th>\n",
       "      <th>y</th>\n",
       "    </tr>\n",
       "  </thead>\n",
       "  <tbody>\n",
       "    <tr>\n",
       "      <th>0</th>\n",
       "      <td>0.083045</td>\n",
       "      <td>1784.165850</td>\n",
       "      <td>3805.839606</td>\n",
       "      <td>-113.570648</td>\n",
       "      <td>121.571793</td>\n",
       "      <td>-19.168142</td>\n",
       "      <td>42.366421</td>\n",
       "      <td>-6.364664</td>\n",
       "      <td>18.623499</td>\n",
       "      <td>-13.704889</td>\n",
       "      <td>15.343150</td>\n",
       "      <td>-12.274110</td>\n",
       "      <td>10.976572</td>\n",
       "      <td>-8.326573</td>\n",
       "      <td>8.803792</td>\n",
       "      <td>-3.672300</td>\n",
       "      <td>1</td>\n",
       "    </tr>\n",
       "    <tr>\n",
       "      <th>1</th>\n",
       "      <td>0.056040</td>\n",
       "      <td>1530.176679</td>\n",
       "      <td>3550.522098</td>\n",
       "      <td>-207.501694</td>\n",
       "      <td>123.991264</td>\n",
       "      <td>8.955127</td>\n",
       "      <td>35.877647</td>\n",
       "      <td>2.907320</td>\n",
       "      <td>21.510468</td>\n",
       "      <td>-8.560436</td>\n",
       "      <td>23.370686</td>\n",
       "      <td>-10.099661</td>\n",
       "      <td>11.900496</td>\n",
       "      <td>-5.555639</td>\n",
       "      <td>5.376327</td>\n",
       "      <td>-2.231760</td>\n",
       "      <td>1</td>\n",
       "    </tr>\n",
       "    <tr>\n",
       "      <th>2</th>\n",
       "      <td>0.076291</td>\n",
       "      <td>1552.811865</td>\n",
       "      <td>3042.260232</td>\n",
       "      <td>-90.722595</td>\n",
       "      <td>140.446304</td>\n",
       "      <td>-29.093889</td>\n",
       "      <td>31.684334</td>\n",
       "      <td>-13.984505</td>\n",
       "      <td>25.764742</td>\n",
       "      <td>-13.664875</td>\n",
       "      <td>11.639934</td>\n",
       "      <td>-11.783642</td>\n",
       "      <td>9.718760</td>\n",
       "      <td>-13.133803</td>\n",
       "      <td>5.791199</td>\n",
       "      <td>-8.907628</td>\n",
       "      <td>1</td>\n",
       "    </tr>\n",
       "    <tr>\n",
       "      <th>3</th>\n",
       "      <td>0.033309</td>\n",
       "      <td>1070.106615</td>\n",
       "      <td>2184.745799</td>\n",
       "      <td>-199.544205</td>\n",
       "      <td>150.090897</td>\n",
       "      <td>5.662678</td>\n",
       "      <td>26.859079</td>\n",
       "      <td>1.771399</td>\n",
       "      <td>14.234031</td>\n",
       "      <td>-4.832006</td>\n",
       "      <td>9.286495</td>\n",
       "      <td>-0.759187</td>\n",
       "      <td>8.137607</td>\n",
       "      <td>-3.200653</td>\n",
       "      <td>6.079319</td>\n",
       "      <td>-2.480174</td>\n",
       "      <td>1</td>\n",
       "    </tr>\n",
       "    <tr>\n",
       "      <th>4</th>\n",
       "      <td>0.101461</td>\n",
       "      <td>1835.004266</td>\n",
       "      <td>3579.757627</td>\n",
       "      <td>-160.337708</td>\n",
       "      <td>126.219635</td>\n",
       "      <td>-35.587811</td>\n",
       "      <td>22.148071</td>\n",
       "      <td>-32.478603</td>\n",
       "      <td>10.852294</td>\n",
       "      <td>-23.352331</td>\n",
       "      <td>0.498434</td>\n",
       "      <td>-11.793437</td>\n",
       "      <td>1.207255</td>\n",
       "      <td>-13.088418</td>\n",
       "      <td>-2.813867</td>\n",
       "      <td>-6.933384</td>\n",
       "      <td>1</td>\n",
       "    </tr>\n",
       "  </tbody>\n",
       "</table>\n",
       "</div>"
      ],
      "text/plain": [
       "   zero_crossing_rate  spectral_centroid  spectral_rolloff      mfcc_1  \\\n",
       "0            0.083045        1784.165850       3805.839606 -113.570648   \n",
       "1            0.056040        1530.176679       3550.522098 -207.501694   \n",
       "2            0.076291        1552.811865       3042.260232  -90.722595   \n",
       "3            0.033309        1070.106615       2184.745799 -199.544205   \n",
       "4            0.101461        1835.004266       3579.757627 -160.337708   \n",
       "\n",
       "       mfcc_2     mfcc_3     mfcc_4     mfcc_5     mfcc_6     mfcc_7  \\\n",
       "0  121.571793 -19.168142  42.366421  -6.364664  18.623499 -13.704889   \n",
       "1  123.991264   8.955127  35.877647   2.907320  21.510468  -8.560436   \n",
       "2  140.446304 -29.093889  31.684334 -13.984505  25.764742 -13.664875   \n",
       "3  150.090897   5.662678  26.859079   1.771399  14.234031  -4.832006   \n",
       "4  126.219635 -35.587811  22.148071 -32.478603  10.852294 -23.352331   \n",
       "\n",
       "      mfcc_8     mfcc_9    mfcc_10    mfcc_11   mfcc_12   mfcc_13  y  \n",
       "0  15.343150 -12.274110  10.976572  -8.326573  8.803792 -3.672300  1  \n",
       "1  23.370686 -10.099661  11.900496  -5.555639  5.376327 -2.231760  1  \n",
       "2  11.639934 -11.783642   9.718760 -13.133803  5.791199 -8.907628  1  \n",
       "3   9.286495  -0.759187   8.137607  -3.200653  6.079319 -2.480174  1  \n",
       "4   0.498434 -11.793437   1.207255 -13.088418 -2.813867 -6.933384  1  "
      ]
     },
     "execution_count": 5,
     "metadata": {},
     "output_type": "execute_result"
    }
   ],
   "source": [
    "df.head()"
   ]
  },
  {
   "cell_type": "markdown",
   "id": "d758463d",
   "metadata": {},
   "source": [
    "### Defining function for Min_Max scaling and Extracting Features and Target Variable"
   ]
  },
  {
   "cell_type": "code",
   "execution_count": 6,
   "id": "b287e4d6",
   "metadata": {},
   "outputs": [],
   "source": [
    "def min_max_scalar(directory):\n",
    "    \n",
    "    ''' This function takes in a directory of data file and apply \n",
    "    min_max scaling, then retun Independent features and Target Variable\n",
    "    in different dataframes. '''\n",
    "    \n",
    "    df = pd.read_csv(directory)\n",
    "    y = df['y']\n",
    "    X = df.drop(columns=['y'])\n",
    "    scalar = MinMaxScaler()\n",
    "    scalar.fit(X)\n",
    "    trans = scalar.transform(X)\n",
    "    df_new = pd.DataFrame(trans)\n",
    "    \n",
    "    return(df_new,y)"
   ]
  },
  {
   "cell_type": "code",
   "execution_count": 7,
   "id": "7d4e813c",
   "metadata": {},
   "outputs": [],
   "source": [
    "X,y = min_max_scalar('../csv/genre_clean.csv')"
   ]
  },
  {
   "cell_type": "code",
   "execution_count": 8,
   "id": "ebd60e6d",
   "metadata": {},
   "outputs": [
    {
     "data": {
      "text/html": [
       "<div>\n",
       "<style scoped>\n",
       "    .dataframe tbody tr th:only-of-type {\n",
       "        vertical-align: middle;\n",
       "    }\n",
       "\n",
       "    .dataframe tbody tr th {\n",
       "        vertical-align: top;\n",
       "    }\n",
       "\n",
       "    .dataframe thead th {\n",
       "        text-align: right;\n",
       "    }\n",
       "</style>\n",
       "<table border=\"1\" class=\"dataframe\">\n",
       "  <thead>\n",
       "    <tr style=\"text-align: right;\">\n",
       "      <th></th>\n",
       "      <th>0</th>\n",
       "      <th>1</th>\n",
       "      <th>2</th>\n",
       "      <th>3</th>\n",
       "      <th>4</th>\n",
       "      <th>5</th>\n",
       "      <th>6</th>\n",
       "      <th>7</th>\n",
       "      <th>8</th>\n",
       "      <th>9</th>\n",
       "      <th>10</th>\n",
       "      <th>11</th>\n",
       "      <th>12</th>\n",
       "      <th>13</th>\n",
       "      <th>14</th>\n",
       "      <th>15</th>\n",
       "    </tr>\n",
       "  </thead>\n",
       "  <tbody>\n",
       "    <tr>\n",
       "      <th>0</th>\n",
       "      <td>0.242545</td>\n",
       "      <td>0.314117</td>\n",
       "      <td>0.385532</td>\n",
       "      <td>0.738100</td>\n",
       "      <td>0.632371</td>\n",
       "      <td>0.482433</td>\n",
       "      <td>0.614443</td>\n",
       "      <td>0.462466</td>\n",
       "      <td>0.639217</td>\n",
       "      <td>0.351102</td>\n",
       "      <td>0.544576</td>\n",
       "      <td>0.381428</td>\n",
       "      <td>0.586480</td>\n",
       "      <td>0.433846</td>\n",
       "      <td>0.633516</td>\n",
       "      <td>0.587829</td>\n",
       "    </tr>\n",
       "    <tr>\n",
       "      <th>1</th>\n",
       "      <td>0.135778</td>\n",
       "      <td>0.248405</td>\n",
       "      <td>0.353329</td>\n",
       "      <td>0.580010</td>\n",
       "      <td>0.644806</td>\n",
       "      <td>0.674332</td>\n",
       "      <td>0.549183</td>\n",
       "      <td>0.594300</td>\n",
       "      <td>0.678448</td>\n",
       "      <td>0.445051</td>\n",
       "      <td>0.653163</td>\n",
       "      <td>0.424254</td>\n",
       "      <td>0.610012</td>\n",
       "      <td>0.494774</td>\n",
       "      <td>0.545250</td>\n",
       "      <td>0.623332</td>\n",
       "    </tr>\n",
       "    <tr>\n",
       "      <th>2</th>\n",
       "      <td>0.215844</td>\n",
       "      <td>0.254261</td>\n",
       "      <td>0.289224</td>\n",
       "      <td>0.776555</td>\n",
       "      <td>0.729382</td>\n",
       "      <td>0.414705</td>\n",
       "      <td>0.507010</td>\n",
       "      <td>0.354124</td>\n",
       "      <td>0.736259</td>\n",
       "      <td>0.351832</td>\n",
       "      <td>0.494483</td>\n",
       "      <td>0.391088</td>\n",
       "      <td>0.554444</td>\n",
       "      <td>0.328144</td>\n",
       "      <td>0.555934</td>\n",
       "      <td>0.458799</td>\n",
       "    </tr>\n",
       "    <tr>\n",
       "      <th>3</th>\n",
       "      <td>0.045909</td>\n",
       "      <td>0.129376</td>\n",
       "      <td>0.181068</td>\n",
       "      <td>0.593403</td>\n",
       "      <td>0.778954</td>\n",
       "      <td>0.651866</td>\n",
       "      <td>0.458480</td>\n",
       "      <td>0.578149</td>\n",
       "      <td>0.579569</td>\n",
       "      <td>0.513140</td>\n",
       "      <td>0.462649</td>\n",
       "      <td>0.608218</td>\n",
       "      <td>0.514173</td>\n",
       "      <td>0.546556</td>\n",
       "      <td>0.563354</td>\n",
       "      <td>0.617210</td>\n",
       "    </tr>\n",
       "    <tr>\n",
       "      <th>4</th>\n",
       "      <td>0.315353</td>\n",
       "      <td>0.327270</td>\n",
       "      <td>0.357017</td>\n",
       "      <td>0.659389</td>\n",
       "      <td>0.656260</td>\n",
       "      <td>0.370394</td>\n",
       "      <td>0.411100</td>\n",
       "      <td>0.091165</td>\n",
       "      <td>0.533615</td>\n",
       "      <td>0.174918</td>\n",
       "      <td>0.343774</td>\n",
       "      <td>0.390895</td>\n",
       "      <td>0.337660</td>\n",
       "      <td>0.329142</td>\n",
       "      <td>0.334333</td>\n",
       "      <td>0.507456</td>\n",
       "    </tr>\n",
       "  </tbody>\n",
       "</table>\n",
       "</div>"
      ],
      "text/plain": [
       "         0         1         2         3         4         5         6   \\\n",
       "0  0.242545  0.314117  0.385532  0.738100  0.632371  0.482433  0.614443   \n",
       "1  0.135778  0.248405  0.353329  0.580010  0.644806  0.674332  0.549183   \n",
       "2  0.215844  0.254261  0.289224  0.776555  0.729382  0.414705  0.507010   \n",
       "3  0.045909  0.129376  0.181068  0.593403  0.778954  0.651866  0.458480   \n",
       "4  0.315353  0.327270  0.357017  0.659389  0.656260  0.370394  0.411100   \n",
       "\n",
       "         7         8         9         10        11        12        13  \\\n",
       "0  0.462466  0.639217  0.351102  0.544576  0.381428  0.586480  0.433846   \n",
       "1  0.594300  0.678448  0.445051  0.653163  0.424254  0.610012  0.494774   \n",
       "2  0.354124  0.736259  0.351832  0.494483  0.391088  0.554444  0.328144   \n",
       "3  0.578149  0.579569  0.513140  0.462649  0.608218  0.514173  0.546556   \n",
       "4  0.091165  0.533615  0.174918  0.343774  0.390895  0.337660  0.329142   \n",
       "\n",
       "         14        15  \n",
       "0  0.633516  0.587829  \n",
       "1  0.545250  0.623332  \n",
       "2  0.555934  0.458799  \n",
       "3  0.563354  0.617210  \n",
       "4  0.334333  0.507456  "
      ]
     },
     "execution_count": 8,
     "metadata": {},
     "output_type": "execute_result"
    }
   ],
   "source": [
    "X.head()"
   ]
  },
  {
   "cell_type": "markdown",
   "id": "aa2db733",
   "metadata": {},
   "source": [
    "## Machine Learning using KNN and Evaluation"
   ]
  },
  {
   "cell_type": "code",
   "execution_count": 25,
   "id": "ab57bd13",
   "metadata": {},
   "outputs": [],
   "source": [
    "from sklearn.model_selection import train_test_split\n",
    "from sklearn.neighbors import KNeighborsClassifier\n",
    "from sklearn.naive_bayes import GaussianNB\n",
    "from sklearn.ensemble import RandomForestClassifier\n",
    "from sklearn import metrics\n",
    "from sklearn.metrics import confusion_matrix\n",
    "import seaborn as sns"
   ]
  },
  {
   "cell_type": "code",
   "execution_count": 52,
   "id": "21e42f08",
   "metadata": {},
   "outputs": [
    {
     "name": "stdout",
     "output_type": "stream",
     "text": [
      "0.54\n"
     ]
    },
    {
     "data": {
      "text/plain": [
       "<AxesSubplot:>"
      ]
     },
     "execution_count": 52,
     "metadata": {},
     "output_type": "execute_result"
    },
    {
     "data": {
      "image/png": "[encoded data removed]",
      "text/plain": [
       "<Figure size 432x288 with 2 Axes>"
      ]
     },
     "metadata": {
      "needs_background": "light"
     },
     "output_type": "display_data"
    }
   ],
   "source": [
    "# Performing KNN and evaluating the results\n",
    "\n",
    "X_train, X_test, y_train, y_test = train_test_split(X, y, test_size=0.20, random_state=15)\n",
    "dtc = KNeighborsClassifier(n_neighbors=10)\n",
    "dtc.fit(X_train, y_train)\n",
    "y_pred = dtc.predict(X_test)\n",
    "print(metrics.accuracy_score(y_test, y_pred))\n",
    "cm = confusion_matrix(y_test, y_pred)\n",
    "label = ['blues','classical','country','disco','hiphop','jazz','metal','pop','reggae','rock']\n",
    "sns.heatmap(cm, annot= True, cmap='Reds', xticklabels= label, yticklabels= label)"
   ]
  },
  {
   "cell_type": "code",
   "execution_count": 28,
   "id": "829ca4b2",
   "metadata": {},
   "outputs": [
    {
     "name": "stdout",
     "output_type": "stream",
     "text": [
      "0.565\n"
     ]
    }
   ],
   "source": [
    "# Performing RandomForestClassifier and evaluating the results\n",
    "\n",
    "X_train, X_test, y_train, y_test = train_test_split(X, y, test_size=0.20, random_state=15)\n",
    "dtc = RandomForestClassifier()\n",
    "dtc.fit(X_train, y_train)\n",
    "y_pred = dtc.predict(X_test)\n",
    "print(metrics.accuracy_score(y_test, y_pred))"
   ]
  },
  {
   "cell_type": "markdown",
   "id": "25bdd148",
   "metadata": {},
   "source": [
    "### Our model has an accuracy of 53%, mainly due to the small size of the Data Set, which can be increased in future"
   ]
  },
  {
   "cell_type": "markdown",
   "id": "d34eef47",
   "metadata": {},
   "source": [
    "# Saving Final Model For Predictions"
   ]
  },
  {
   "cell_type": "code",
   "execution_count": 8,
   "id": "54626e4e",
   "metadata": {},
   "outputs": [
    {
     "data": {
      "text/plain": [
       "KNeighborsClassifier()"
      ]
     },
     "execution_count": 8,
     "metadata": {},
     "output_type": "execute_result"
    }
   ],
   "source": [
    "knn = KNeighborsClassifier()\n",
    "knn.fit(X, y)"
   ]
  },
  {
   "cell_type": "code",
   "execution_count": 9,
   "id": "6f12065e",
   "metadata": {},
   "outputs": [],
   "source": [
    "# Saving the model using joblib\n",
    "import joblib"
   ]
  },
  {
   "cell_type": "code",
   "execution_count": 10,
   "id": "3c50950b",
   "metadata": {},
   "outputs": [
    {
     "data": {
      "text/plain": [
       "['finalized_model.sav']"
      ]
     },
     "execution_count": 10,
     "metadata": {},
     "output_type": "execute_result"
    }
   ],
   "source": [
    "# save the model to disk\n",
    "filename = 'finalized_model.sav'\n",
    "joblib.dump(knn, filename)"
   ]
  },
  {
   "cell_type": "code",
   "execution_count": null,
   "id": "a0700017",
   "metadata": {},
   "outputs": [],
   "source": []
  }
 ],
 "metadata": {
  "kernelspec": {
   "display_name": "Python 3",
   "language": "python",
   "name": "python3"
  },
  "language_info": {
   "codemirror_mode": {
    "name": "ipython",
    "version": 3
   },
   "file_extension": ".py",
   "mimetype": "text/x-python",
   "name": "python",
   "nbconvert_exporter": "python",
   "pygments_lexer": "ipython3",
   "version": "3.8.8"
  }
 },
 "nbformat": 4,
 "nbformat_minor": 5
}
