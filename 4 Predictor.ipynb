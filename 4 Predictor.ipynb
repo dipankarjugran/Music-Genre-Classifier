{
 "cells": [
  {
   "cell_type": "code",
   "execution_count": 6,
   "id": "e19262ae",
   "metadata": {},
   "outputs": [],
   "source": [
    "import pandas as pd\n",
    "import joblib"
   ]
  },
  {
   "cell_type": "code",
   "execution_count": 43,
   "id": "5899d82d",
   "metadata": {},
   "outputs": [],
   "source": [
    "def MGP(directory):\n",
    "    \n",
    "    ''' Fuction to run our machine learning model\n",
    "    which takes irectory of the Data Set we want predition for and \n",
    "    return the genre of the music'''\n",
    "    \n",
    "    \n",
    "    model = joblib.load('finalized_model.sav')\n",
    "    df = pd.read_csv(directory)\n",
    "    X = model.predict(df)\n",
    "    \n",
    "    label_map = {\n",
    "        1: 'Blues',\n",
    "        2: 'Classical',\n",
    "        3: 'Country',\n",
    "        4:'disco',\n",
    "        5:'hiphop',\n",
    "        6:'jazz',\n",
    "        7:'metal',\n",
    "        8:'pop',\n",
    "        9:'reggae',\n",
    "        10:'rock'\n",
    "        }\n",
    "    \n",
    "    prediction = pd.DataFrame(X, columns=['Genre'])\n",
    "    prediction['Genre'] = prediction['Genre'].astype(int)\n",
    "    prediction['Genre'] = prediction['Genre'].map(label_map)\n",
    "    \n",
    "    song = pd.read_csv('../csv/song_name.csv', usecols=['labels'])\n",
    "    X = pd.concat([prediction, song], axis=1)\n",
    "        \n",
    "    return X\n",
    "    "
   ]
  },
  {
   "cell_type": "code",
   "execution_count": 44,
   "id": "95a8342d",
   "metadata": {},
   "outputs": [],
   "source": [
    "X = MGP('../csv/new_test_transformed.csv')"
   ]
  },
  {
   "cell_type": "code",
   "execution_count": 45,
   "id": "4bc1a932",
   "metadata": {},
   "outputs": [
    {
     "data": {
      "text/html": [
       "<div>\n",
       "<style scoped>\n",
       "    .dataframe tbody tr th:only-of-type {\n",
       "        vertical-align: middle;\n",
       "    }\n",
       "\n",
       "    .dataframe tbody tr th {\n",
       "        vertical-align: top;\n",
       "    }\n",
       "\n",
       "    .dataframe thead th {\n",
       "        text-align: right;\n",
       "    }\n",
       "</style>\n",
       "<table border=\"1\" class=\"dataframe\">\n",
       "  <thead>\n",
       "    <tr style=\"text-align: right;\">\n",
       "      <th></th>\n",
       "      <th>Genre</th>\n",
       "      <th>labels</th>\n",
       "    </tr>\n",
       "  </thead>\n",
       "  <tbody>\n",
       "    <tr>\n",
       "      <th>0</th>\n",
       "      <td>Country</td>\n",
       "      <td>Breaking News</td>\n",
       "    </tr>\n",
       "    <tr>\n",
       "      <th>1</th>\n",
       "      <td>jazz</td>\n",
       "      <td>Breaking the Habit</td>\n",
       "    </tr>\n",
       "    <tr>\n",
       "      <th>2</th>\n",
       "      <td>jazz</td>\n",
       "      <td>Counting Stars</td>\n",
       "    </tr>\n",
       "    <tr>\n",
       "      <th>3</th>\n",
       "      <td>disco</td>\n",
       "      <td>Nights</td>\n",
       "    </tr>\n",
       "    <tr>\n",
       "      <th>4</th>\n",
       "      <td>Country</td>\n",
       "      <td>What I've Done</td>\n",
       "    </tr>\n",
       "  </tbody>\n",
       "</table>\n",
       "</div>"
      ],
      "text/plain": [
       "     Genre              labels\n",
       "0  Country       Breaking News\n",
       "1     jazz  Breaking the Habit\n",
       "2     jazz      Counting Stars\n",
       "3    disco              Nights\n",
       "4  Country      What I've Done"
      ]
     },
     "execution_count": 45,
     "metadata": {},
     "output_type": "execute_result"
    }
   ],
   "source": [
    "X"
   ]
  },
  {
   "cell_type": "code",
   "execution_count": null,
   "id": "d97b6658",
   "metadata": {},
   "outputs": [],
   "source": []
  }
 ],
 "metadata": {
  "kernelspec": {
   "display_name": "Python 3",
   "language": "python",
   "name": "python3"
  },
  "language_info": {
   "codemirror_mode": {
    "name": "ipython",
    "version": 3
   },
   "file_extension": ".py",
   "mimetype": "text/x-python",
   "name": "python",
   "nbconvert_exporter": "python",
   "pygments_lexer": "ipython3",
   "version": "3.8.8"
  }
 },
 "nbformat": 4,
 "nbformat_minor": 5
}
